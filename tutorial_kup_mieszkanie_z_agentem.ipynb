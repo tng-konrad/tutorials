{
  "nbformat": 4,
  "nbformat_minor": 0,
  "metadata": {
    "colab": {
      "provenance": []
    },
    "kernelspec": {
      "name": "python3",
      "display_name": "Python 3"
    },
    "language_info": {
      "name": "python"
    }
  },
  "cells": [
    {
      "cell_type": "markdown",
      "source": [
        "# Setup"
      ],
      "metadata": {
        "id": "VT0FVKix5xlz"
      }
    },
    {
      "cell_type": "code",
      "source": [
        "!pip install -q gradio firecrawl-py google-generativeai"
      ],
      "metadata": {
        "id": "SeNWCj7S43Yp"
      },
      "execution_count": 1,
      "outputs": []
    },
    {
      "cell_type": "code",
      "source": [
        "\n",
        "import gradio as gr\n",
        "from firecrawl import FirecrawlApp\n",
        "import google.generativeai as genai\n",
        "import os\n",
        "import getpass\n",
        "import re\n",
        "import json\n",
        "from google.colab import userdata\n"
      ],
      "metadata": {
        "id": "5JNY8O4w45K6"
      },
      "execution_count": 2,
      "outputs": []
    },
    {
      "cell_type": "code",
      "source": [
        "# Get Firecrawl API Key\n",
        "FIRECRAWL_API_KEY = userdata.get('firecrawl')\n",
        "os.environ['FIRECRAWL_API_KEY'] = userdata.get('firecrawl')\n",
        "genai.configure(api_key=userdata.get('GOOGLE_API_KEY'))"
      ],
      "metadata": {
        "id": "mr1x6eTc47EC"
      },
      "execution_count": 3,
      "outputs": []
    },
    {
      "cell_type": "code",
      "source": [
        "class CFG:\n",
        "  model = 'gemini-1.5-flash'"
      ],
      "metadata": {
        "id": "MDJsPUlr7N_W"
      },
      "execution_count": null,
      "outputs": []
    },
    {
      "cell_type": "markdown",
      "source": [
        "# Functions"
      ],
      "metadata": {
        "id": "sc71hdK96t5F"
      }
    },
    {
      "cell_type": "code",
      "source": [
        "def parse_price(price_str):\n",
        "    \"\"\"\n",
        "    Attempts to parse a price string (e.g., \"€500,000\", \"$650k\", \"£400.000\")\n",
        "    into a numerical value (float). Returns None if parsing fails.\n",
        "    \"\"\"\n",
        "    if not isinstance(price_str, str):\n",
        "        return None\n",
        "    try:\n",
        "        # Remove currency symbols, common words, whitespace\n",
        "        cleaned_price = re.sub(r\"[€$£]|approx|pcm|per month|p.m.|vraagprijs|price on application|contact us\", \"\", price_str, flags=re.IGNORECASE)\n",
        "        cleaned_price = cleaned_price.strip()\n",
        "\n",
        "        # Handle 'k' for thousands and 'm' for millions\n",
        "        multiplier = 1\n",
        "        if 'k' in cleaned_price.lower():\n",
        "            multiplier = 1000\n",
        "            cleaned_price = cleaned_price.lower().replace('k', '')\n",
        "        elif 'm' in cleaned_price.lower():\n",
        "             multiplier = 1000000\n",
        "             cleaned_price = cleaned_price.lower().replace('m', '')\n",
        "\n",
        "        # Remove thousands separators (commas or periods depending on locale - handle both)\n",
        "        # Need to be careful if '.' is a decimal separator\n",
        "        if '.' in cleaned_price and ',' in cleaned_price:\n",
        "             # Assume '.' is thousand sep if it comes before ','\n",
        "             if cleaned_price.rfind('.') < cleaned_price.rfind(','):\n",
        "                  cleaned_price = cleaned_price.replace('.', '')\n",
        "                  cleaned_price = cleaned_price.replace(',', '.') # Use '.' as decimal sep\n",
        "             else: # Assume ',' is thousand sep\n",
        "                  cleaned_price = cleaned_price.replace(',', '')\n",
        "        elif '.' in cleaned_price:\n",
        "             # If multiple '.', assume they are thousand separators unless it's the last char\n",
        "             parts = cleaned_price.split('.')\n",
        "             if len(parts) > 2:\n",
        "                  cleaned_price = \"\".join(parts[:-1]) + \".\" + parts[-1] # Keep last '.' as decimal\n",
        "             # Consider a case like 500.000 - likely 500000 not 500.0\n",
        "             # If there's only one '.' and >= 3 digits after, treat as thousand sep\n",
        "             elif len(parts) == 2 and len(parts[1]) >= 3:\n",
        "                  cleaned_price = \"\".join(parts)\n",
        "\n",
        "\n",
        "        elif ',' in cleaned_price:\n",
        "             # Treat ',' as decimal separator if it's the only one and near the end? Risky.\n",
        "             # Safer: assume ',' is thousand separator if present. Convert to '.' for float conversion later.\n",
        "              # Let's remove ',' as thousand separator for now\n",
        "              cleaned_price = cleaned_price.replace(',', '')\n",
        "\n",
        "\n",
        "        # Final attempt to convert to float\n",
        "        numeric_price = float(cleaned_price) * multiplier\n",
        "        return numeric_price\n",
        "    except (ValueError, TypeError):\n",
        "        # Handle cases like empty strings, non-numeric values after cleaning\n",
        "        return None"
      ],
      "metadata": {
        "id": "xJQtuw8j6wZh"
      },
      "execution_count": 4,
      "outputs": []
    },
    {
      "cell_type": "code",
      "source": [
        "def extract_data_with_prompt(location, max_price, currency=\"PLN\"):\n",
        "    \"\"\"\n",
        "    Uses Firecrawl's app.extract with a prompt to get structured data.\n",
        "    The prompt instructs the LLM to also filter by location and price.\n",
        "    Includes robustness checks for response processing.\n",
        "    \"\"\"\n",
        "\n",
        "    dynamic_prompt = f\"\"\"\n",
        "    Extract 50 different properties in city {location} that cost less than {max_price} PLN\n",
        "\n",
        "        Requirements:\n",
        "        - Location: {location}\n",
        "        - Maximum Price: {max_price} PLN\n",
        "        - Include complete property details with exact location\n",
        "        - Format as a list of properties with their respective details\n",
        "        - provide the url for each listing\n",
        "\n",
        "    \"\"\"\n",
        "\n",
        "    urls_to_scrape = [\n",
        "        f\"https://www.otodom.pl/pl/oferty/sprzedaz/mieszkanie/{location}/*\",\n",
        "        f\"https://gratka.pl/nieruchomosci/mieszkania/{location}/sprzedaz/*\",\n",
        "    ]\n",
        "\n",
        "    extracted_results = []\n",
        "    response_data = None # Initialize response_data\n",
        "    try:\n",
        "        app = FirecrawlApp(api_key=FIRECRAWL_API_KEY)\n",
        "        print(f\"  - Calling Firecrawl app.extract...\")\n",
        "        response_data = app.extract(\n",
        "             urls=urls_to_scrape,\n",
        "             params={\n",
        "                 # 'mode': 'llm-extraction',\n",
        "                 'prompt': dynamic_prompt,\n",
        "             },\n",
        "\n",
        "         )\n",
        "\n",
        "        print(response_data)\n",
        "\n",
        "    except Exception as e:\n",
        "        print(f\"Tool 1: Error during Firecrawl app.extract call: {e}\")\n",
        "        return []\n",
        "\n",
        "    # --- Process the response (Now expecting a single dictionary) ---\n",
        "    if isinstance(response_data, dict) and response_data.get('success'):\n",
        "        print(f\"  - Processing successful response dictionary...\")\n",
        "        data_payload = response_data.get('data') # Access the nested 'data' dictionary\n",
        "\n",
        "        if isinstance(data_payload, dict):\n",
        "            properties_list = data_payload.get('properties') # Access the 'properties' list\n",
        "\n",
        "            if isinstance(properties_list, list):\n",
        "                print(f\"    - Found {len(properties_list)} listings in 'data.properties'.\")\n",
        "                for listing in properties_list:\n",
        "                    if isinstance(listing, dict):\n",
        "                        # Add the valid listing dictionary to results\n",
        "                        # No need to add source_url manually as 'url' seems present\n",
        "                        extracted_results.append(listing)\n",
        "                    else:\n",
        "                        print(f\"  - Warning: Found non-dictionary item within 'properties' list: {listing}\")\n",
        "            else:\n",
        "                print(f\"  - Warning: Expected a list under 'data.properties', but found {type(properties_list)}.\")\n",
        "        else:\n",
        "            print(f\"  - Warning: Expected a dictionary under 'data', but found {type(data_payload)}.\")\n",
        "    elif isinstance(response_data, dict) and not response_data.get('success'):\n",
        "         print(f\"  - Warning: Firecrawl response indicates failure: {response_data}\")\n",
        "    elif response_data is not None:\n",
        "        # Log if response_data is not None but also not a dict\n",
        "        print(f\"  - Warning: Expected dict from app.extract based on new info, but received {type(response_data)}. Response: {response_data}\")\n",
        "    else:\n",
        "        print(\"  - Info: Firecrawl app.extract returned None or the call failed.\")\n",
        "\n",
        "    print(f\"Tool 1: Extraction processing finished. Total potential listings gathered: {len(extracted_results)}\")\n",
        "\n",
        "    # --- Basic Deduplication (using 'url' field within listing) ---\n",
        "    seen_urls = set()\n",
        "    deduplicated_results = []\n",
        "    for listing in extracted_results:\n",
        "        if isinstance(listing, dict):\n",
        "             url = listing.get('url')\n",
        "             if url and url != 'N/A' and url not in seen_urls:\n",
        "                  deduplicated_results.append(listing)\n",
        "                  seen_urls.add(url)\n",
        "             elif not url or url == 'N/A': # Keep if no URL? Or discard? Keep for now.\n",
        "                   print(f\"  - Info: Keeping listing without unique URL: {listing.get('location') or listing.get('details')}\")\n",
        "                   deduplicated_results.append(listing)\n",
        "        else:\n",
        "            print(f\"  - Warning: Found non-dictionary item during deduplication phase: {listing}\")\n",
        "\n",
        "    print(f\"Tool 1: Deduplicated listings count: {len(deduplicated_results)}\")\n",
        "    return deduplicated_results"
      ],
      "metadata": {
        "id": "wkaiP6pt-G9r"
      },
      "execution_count": 5,
      "outputs": []
    },
    {
      "cell_type": "code",
      "execution_count": 6,
      "metadata": {
        "id": "ee_GbNE-r47q"
      },
      "outputs": [],
      "source": [
        "def summarize_results_with_llm(extracted_listings, location, max_price, currency=\"PLN\"):\n",
        "    \"\"\"\n",
        "    Uses Gemini to generate a summary of the listings extracted via prompt.\n",
        "    Assumes the listings are already filtered by the extraction prompt.\n",
        "    \"\"\"\n",
        "    print(f\"Tool 2: Summarizing {len(extracted_listings)} extracted listings with Gemini...\")\n",
        "    if not extracted_listings:\n",
        "        return \"No listings were extracted based on the prompt criteria. The websites might not contain matching properties, or the extraction failed.\"\n",
        "\n",
        "    # Prepare data for the prompt\n",
        "    prompt_listings_text = []\n",
        "    # Limit the number of listings sent to the LLM\n",
        "    listings_to_send = extracted_listings[:15]\n",
        "    print(f\"  - Preparing summary for {len(listings_to_send)} listings...\")\n",
        "\n",
        "    for i, listing in enumerate(listings_to_send):\n",
        "         if isinstance(listing, dict):\n",
        "              # Try to display parsed price for clarity, fallback to original string\n",
        "              price_str = listing.get('price', 'N/A')\n",
        "              parsed_p = parse_price(price_str)\n",
        "              display_price = f\"{price_str}\"\n",
        "              if parsed_p is not None:\n",
        "                    display_price += f\" (~{parsed_p:,.0f} {currency})\"\n",
        "\n",
        "              listing_info = f\"  - Property {i+1}:\\n\"\n",
        "              listing_info += f\"    Address/Title: {listing.get('address', 'N/A')}\\n\"\n",
        "              listing_info += f\"    Price: {display_price}\\n\"\n",
        "              listing_info += f\"    Details: {listing.get('details', 'N/A')}\\n\"\n",
        "              listing_info += f\"    URL: {listing.get('url', 'N/A')}\"\n",
        "              prompt_listings_text.append(listing_info)\n",
        "         else:\n",
        "              prompt_listings_text.append(f\"  - Item {i+1}: Invalid data format received - {listing}\")\n",
        "\n",
        "\n",
        "\n",
        "    prompt = f\"\"\"You are a helpful real estate assistant summarizing search results.\n",
        "\n",
        "    User's Search Criteria (used for extraction):\n",
        "    Location: {location}\n",
        "    Maximum Price: {max_price:,.0f} {currency}\n",
        "\n",
        "    The following list contains property listings that were extracted from websites based on a prompt asking for properties matching the above criteria. **Assume these listings generally meet the criteria**, although the extraction process might not be perfect.\n",
        "\n",
        "    Please provide a brief summary of these findings for the user in Markdown format.\n",
        "    - Start with a short sentence confirming the search criteria.\n",
        "    - Briefly mention the number of properties found (up to the limit provided below).\n",
        "    - Highlight 10 potentially interesting options, mentioning their address/title, price, and url. Use the extracted details for highlighting. Format in a human readable way.\n",
        "    - Keep the summary concise and easy to read.\n",
        "    - Do not add properties not present in the list below.\n",
        "\n",
        "    Extracted Listings (limit {len(listings_to_send)} shown):\n",
        "    {chr(10).join(prompt_listings_text)}\n",
        "\n",
        "    \"\"\"\n",
        "\n",
        "    try:\n",
        "        model = genai.GenerativeModel(CFG.model)\n",
        "        response = model.generate_content(prompt)\n",
        "        if response.parts:\n",
        "             return response.text\n",
        "        elif response.prompt_feedback.block_reason:\n",
        "             print(f\"Tool 2: Gemini response blocked due to: {response.prompt_feedback.block_reason}\")\n",
        "             return f\"Error: The AI summary response was blocked ({response.prompt_feedback.block_reason}).\"\n",
        "        else:\n",
        "             return \"Error: Received an empty summary response from the AI assistant.\"\n",
        "\n",
        "    except Exception as e:\n",
        "        print(f\"Tool 2: Error calling Gemini API: {e}\")\n",
        "        # Fallback: Simple list if LLM fails\n",
        "        fallback_output = f\"## Found {len(extracted_listings)} Listings (AI Summary Failed)\\n\\n\"\n",
        "        fallback_output += f\"An error occurred generating the summary: {e}\\n\\nHere are the raw extracted listings (up to 10 shown):\\n\\n\"\n",
        "        for listing in extracted_listings[:10]:\n",
        "             if isinstance(listing, dict):\n",
        "                  fallback_output += f\"- **{listing.get('address', 'N/A')}**\\n\"\n",
        "                  fallback_output += f\"  Price: {listing.get('price', 'N/A')}\\n\"\n",
        "                  fallback_output += f\"  Details: {listing.get('details', 'N/A')}\\n\"\n",
        "                  fallback_output += f\"  URL: {listing.get('url', 'N/A')}\\n\\n\"\n",
        "             else:\n",
        "                  fallback_output += f\"- Invalid listing data: {listing}\\n\\n\"\n",
        "        return fallback_output"
      ]
    },
    {
      "cell_type": "code",
      "source": [
        "def find_properties(location, max_price_input):\n",
        "    \"\"\"\n",
        "    Main function: Extracts (using prompt) and summarizes property listings.\n",
        "    \"\"\"\n",
        "    print(f\"\\n--- New Request ---\")\n",
        "    # Assuming price is in PLN based on user example, adjust if needed\n",
        "    currency = \"PLN\"\n",
        "    max_price = float(max_price_input) # Ensure max_price is float\n",
        "    print(f\"Received request: Location='{location}', Max Price='{max_price:,.0f} {currency}'\")\n",
        "\n",
        "\n",
        "\n",
        "    # --- Orchestration ---\n",
        "    # 1. Extract Data (using prompt for extraction AND filtering)\n",
        "    # Pass location/price to function to build the prompt\n",
        "    extracted_listings = extract_data_with_prompt(location, max_price, currency)\n",
        "\n",
        "    if not extracted_listings:\n",
        "        print(\"Orchestrator: No listings extracted by the prompt. Returning message.\")\n",
        "        # Provide a more informative message\n",
        "        return f\"Could not extract any property listings matching your criteria (Location: {location}, Max Price: {max_price:,.0f} {currency}) from the target websites using the extraction prompt. \\n\\nPossible reasons:\\n- No listings matched the criteria on the pages.\\n- The websites' structure might be incompatible with automated extraction.\\n- The extraction process may have been blocked or timed out.\"\n",
        "\n",
        "    # 2. Summarize with LLM\n",
        "    # Pass the extracted (supposedly pre-filtered) listings\n",
        "    summary = summarize_results_with_llm(extracted_listings, location, max_price, currency)\n",
        "\n",
        "    print(\"Orchestrator: Request processed. Returning summary.\")\n",
        "    return summary"
      ],
      "metadata": {
        "id": "hjX8LYkK-Pfx"
      },
      "execution_count": 7,
      "outputs": []
    },
    {
      "cell_type": "markdown",
      "source": [
        "# Gradio app"
      ],
      "metadata": {
        "id": "VCw5jqIJ66xw"
      }
    },
    {
      "cell_type": "code",
      "source": [
        "iface = gr.Interface(\n",
        "     fn=find_properties,\n",
        "     inputs=[\n",
        "          gr.Textbox(label=\"Lokalizacja\", placeholder=\"n.p. Warszawa, Kraków, Gdańsk\", value=\"Warszawa\"),\n",
        "          gr.Number(label=\"Maksymalna cena (PLN)\", value = 800000)\n",
        "     ],\n",
        "     outputs=gr.Markdown(label=\"Property Summary\"),\n",
        ")"
      ],
      "metadata": {
        "id": "_LVZFKno5dmR"
      },
      "execution_count": 8,
      "outputs": []
    },
    {
      "cell_type": "code",
      "source": [
        "iface.launch(debug=True, share=True)"
      ],
      "metadata": {
        "colab": {
          "base_uri": "https://localhost:8080/",
          "height": 844
        },
        "id": "JrDjwx9X_BPX",
        "outputId": "24e60359-8b4a-4b78-92d1-a82dcfdf7b42"
      },
      "execution_count": null,
      "outputs": [
        {
          "metadata": {
            "tags": null
          },
          "name": "stdout",
          "output_type": "stream",
          "text": [
            "Colab notebook detected. This cell will run indefinitely so that you can see errors and logs. To turn off, set debug=False in launch().\n",
            "* Running on public URL: https://dcb206489cf6e1c2c8.gradio.live\n",
            "\n",
            "This share link expires in 72 hours. For free permanent hosting and GPU upgrades, run `gradio deploy` from the terminal in the working directory to deploy to Hugging Face Spaces (https://huggingface.co/spaces)\n"
          ]
        },
        {
          "data": {
            "text/html": [
              "<div><iframe src=\"https://dcb206489cf6e1c2c8.gradio.live\" width=\"100%\" height=\"500\" allow=\"autoplay; camera; microphone; clipboard-read; clipboard-write;\" frameborder=\"0\" allowfullscreen></iframe></div>"
            ],
            "text/plain": [
              "<IPython.core.display.HTML object>"
            ]
          },
          "metadata": {},
          "output_type": "display_data"
        },
        {
          "metadata": {
            "tags": null
          },
          "name": "stdout",
          "output_type": "stream",
          "text": [
            "\n",
            "--- New Request ---\n",
            "Received request: Location='Warszawa', Max Price='800,000 PLN'\n",
            "  - Calling Firecrawl app.extract...\n",
            "{'success': True, 'data': {'properties': [{'url': 'https://www.otodom.pl/pl/oferta/3-pokoje-anin-ID4tFiR', 'price': 629000, 'details': '3 Pokoje Anin, Powierzchnia 46.3m², Cena za metr kwadratowy 13 585 zł/m², Piętro parter', 'location': 'ul. Zorzy, Anin, Wawer, Warszawa, mazowieckie'}, {'url': 'https://www.otodom.pl/pl/oferta/mieszkanie-2p-rodzinne-osiedle-las-cisza-ID4w4q1', 'price': 620000, 'details': 'Mieszkanie 2P / Rodzinne Osiedle / Las Cisza, Powierzchnia 50.7m², Cena za metr kwadratowy 12 229 zł/m², Piętro 2 piętro', 'location': 'ul. Romana Pazińskiego, Anin, Wawer, Warszawa, mazowieckie'}, {'url': 'https://www.otodom.pl/pl/oferta/2-3-pokoje-w-sercu-zielonego-anina-ID4tX3Y', 'price': 590000, 'details': '2/3 Pokoje W Sercu Zielonego Anina, Powierzchnia 48.3m², Cena za metr kwadratowy 12 215 zł/m², Piętro 1 piętro', 'location': 'ul. Romana Pazińskiego, Anin, Wawer, Warszawa, mazowieckie'}, {'url': 'https://www.otodom.pl/pl/oferta/przytulne-studio-po-remoncie-w-otulinie-parku-ID4t0O9', 'price': 490000, 'details': 'Przytulne studio po remoncie w otulinie parku, Powierzchnia 27.7m², Cena za metr kwadratowy 17 690 zł/m², Piętro 2 piętro', 'location': 'ul. Zambrowska, Anin, Wawer, Warszawa, mazowieckie'}, {'url': 'https://www.otodom.pl/pl/oferta/kawalerka-pod-inwestycje-ul-blekitna-praga-ID4uXpF', 'price': 181250, 'details': 'Kawalerka pod inwestycję - ul. Błękitna / Praga, Powierzchnia 12.5 m², Cena za metr kwadratowy 14 500 zł/m², Piętro 1 piętro', 'location': 'ul. Błękitna, Wawer, Wawer, Warszawa, mazowieckie'}, {'url': 'https://www.otodom.pl/pl/oferta/gotowiec-inwestycyjny-4-pok-przychod-6600-mies-ID4wrBU', 'price': 599900, 'details': 'Gotowiec inwestycyjny, 4 pok., przychód 6600/mies, Powierzchnia 41.72 m², Cena za metr kwadratowy 14 379 zł/m², Piętro 1 piętro', 'location': 'ul. Urocza, Wawer, Wawer, Warszawa, mazowieckie'}, {'url': 'https://www.otodom.pl/pl/oferta/kawalerka-pod-inwestycje-ul-blekitna-91-ID4w2l2', 'price': 268650, 'details': 'Kawalerka pod inwestycję – ul. Błękitna 91, Powierzchnia 19.9 m², Cena za metr kwadratowy 13 500 zł/m², Piętro 1 piętro', 'location': 'ul. Błękitna, Wawer, Wawer, Warszawa, mazowieckie'}, {'url': 'https://www.otodom.pl/pl/oferta/4-pokojowe-przy-pkp-wawer-ogrodek-2-jezyczna-sp-ID4uQDO', 'price': 1150000, 'details': '4-Pokojowe Przy Pkp Wawer, Ogródek; 2-Języczna Sp, Powierzchnia 63.03 m², Cena za metr kwadratowy 18 245 zł/m², Piętro 2 piętro', 'location': 'ul. Błękitna, Wawer, Wawer, Warszawa, mazowieckie'}, {'url': 'https://www.otodom.pl/pl/oferta/kawalerka-20-m-roi-6-wilanow-ul-ledochow-ID4rlpm', 'price': 420000, 'details': 'Kawalerka 20 m², Roi 6%, 1 pokój, 20m², 2 piętro, Cena za metr kwadratowy 21 000 zł/m²', 'location': 'ul. św. Urszuli Ledóchowskiej, Błonia Wilanowskie, Wilanów, Warszawa, mazowieckie'}, {'url': 'https://www.otodom.pl/pl/oferta/nowoczesny-2-pokojowy-apartament-inwestycyjny-ID4wj2j', 'price': 563000, 'details': 'Nowoczesny, 2-pokojowy apartament inwestycyjny', 'location': 'ul. Zięby, Stary Imielin, Ursynów, Warszawa, mazowieckie'}, {'url': 'https://www.otodom.pl/pl/oferta/swietny-gotowiec-inwestycyjny-metro-imielin-ID4tMpE', 'price': 799000, 'details': 'Świetny gotowiec inwestycyjny - Metro Imielin', 'location': 'ul. Polinezyjska, Ursynów-Centrum, Ursynów, Warszawa, mazowieckie'}, {'url': 'https://www.otodom.pl/pl/oferta/kawalerka-przy-lesie-kabackim-ID4waRu', 'price': 459000, 'details': 'Kawalerka przy lesie Kabackim', 'location': 'ul. Stefana Dembego, Kabaty, Ursynów, Warszawa, mazowieckie'}, {'url': 'https://www.otodom.pl/pl/oferta/apartament-inwestycyjny-ursynow-odlicz-vat-23-ID4wj0K', 'price': 563000, 'details': 'Apartament inwestycyjny Ursynów, odlicz VAT 23%', 'location': 'ul. Zięby, Stary Imielin, Ursynów, Warszawa, mazowieckie'}, {'url': 'https://www.otodom.pl/pl/oferta/2-pak-lokali-inwestycyjnych-ursynow-os-zieby-ID4wny5', 'price': 1150000, 'details': '2-pak lokali inwestycyjnych Ursynów (os. Zięby)', 'location': 'ul. Zięby, Stary Imielin, Ursynów, Warszawa, mazowieckie'}, {'url': 'https://www.otodom.pl/pl/oferta/nowoczesne-tuz-przy-metrze-kabaty-ID4sxLt', 'price': 685000, 'details': 'Nowoczesne tuż przy metrze Kabaty', 'location': 'ul. Stefana Dembego, Kabaty, Ursynów, Warszawa, mazowieckie'}, {'url': 'https://www.otodom.pl/pl/oferta/segment-115m2-swietna-lokalizacja-450m-do-skm-ID4wxq1', 'price': 799000, 'details': 'Segment 115m2. Świetna lokalizacja-450m do SKM. Liczba pokoi: 5, Powierzchnia: 115.56m², Cena za metr kwadratowy: 6914 zł/m²', 'location': 'Groszówka, Wesoła, Warszawa, mazowieckie'}, {'url': 'https://www.otodom.pl/pl/oferta/bezczynszowe-m4-gwarancja-ciszy-i-spokoju-ID4uWn9', 'price': 845900, 'details': 'Bezczynszowe M4, Gwarancja Ciszy I Spokoju. Liczba pokoi: 4, Powierzchnia: 73m², Cena za metr kwadratowy: 11588 zł/m², Piętro: 2', 'location': 'Stara Miłosna, Wesoła, Warszawa, mazowieckie'}, {'url': 'https://www.otodom.pl/pl/oferta/38m2-2pok-mieszkanie-do-wlasnej-aranzacji-wesola-ID4wvsr', 'price': 520000, 'details': '38m2 2pok mieszkanie do własnej aranżacji Wesoła. Liczba pokoi: 2, Powierzchnia: 38.6m², Cena za metr kwadratowy: 13472 zł/m², Piętro: parter', 'location': 'Groszówka, Wesoła, Warszawa, mazowieckie'}, {'url': 'https://www.otodom.pl/pl/oferta/bezczynszowe-dwupoziomowe-mieszkanie-ID4tphz', 'price': 849000, 'details': 'Bezczynszowe Dwupoziomowe Mieszkanie. Liczba pokoi: 3, Powierzchnia: 97m², Cena za metr kwadratowy: 8753 zł/m², Piętro: 1', 'location': 'Stara Miłosna, Wesoła, Warszawa, mazowieckie'}, {'url': 'https://www.otodom.pl/pl/oferta/bezczynszowe-2-mp-w-cenie-ogrodek-ID4wvwl', 'price': 749000, 'details': 'Bezczynszowe, 2 mp w cenie, ogródek. Liczba pokoi: 4, Powierzchnia: 125 m², Cena za metr kwadratowy: 5992 zł/m², Piętro: 1', 'location': 'Zakręt, Wiązowna, otwocki, mazowieckie'}, {'url': 'https://www.otodom.pl/pl/oferta/bezczynszowe-2-mp-w-cenie-ogrodek-ID4wvuz', 'price': 759000, 'details': 'Bezczynszowe, 2 mp w cenie, ogródek. Liczba pokoi: 3, Powierzchnia: 85 m², Cena za metr kwadratowy: 8929 zł/m², Piętro: parter', 'location': 'Zakręt, Wiązowna, otwocki, mazowieckie'}, {'url': 'https://www.otodom.pl/pl/oferta/2-pokojowe-mieszkanie-35m2-balkon-bezposrednio-ID4uhbZ', 'price': 469920, 'details': '2-pokojowe mieszkanie 35m2 + balkon Bezpośrednio', 'location': 'ul. Chełmżyńska, Kawęczyn-Wygoda, Rembertów, Warszawa, mazowieckie'}, {'url': 'https://www.otodom.pl/pl/oferta/3-pokojowe-mieszkanie-55m2-balkon-bez-prowizji-ID4uhc6', 'price': 655690, 'details': '3-pokojowe mieszkanie 55m2 + balkon Bez Prowizji', 'location': 'ul. Chełmżyńska, Kawęczyn-Wygoda, Rembertów, Warszawa, mazowieckie'}, {'url': 'https://www.otodom.pl/pl/oferta/1-pokojowe-mieszkanie-25m2-balkon-bez-prowizji-ID4uhds', 'price': 414086, 'details': '1-pokojowe mieszkanie 25m2 + balkon Bez Prowizji', 'location': 'ul. Chełmżyńska, Kawęczyn-Wygoda, Rembertów, Warszawa, mazowieckie'}, {'url': 'https://www.otodom.pl/pl/oferta/3-pokojowe-mieszkanie-55m2-balkon-ID4uhcH', 'price': 666710, 'details': '3-pokojowe mieszkanie 55m2 + balkon', 'location': 'ul. Chełmżyńska, Kawęczyn-Wygoda, Rembertów, Warszawa, mazowieckie'}, {'url': 'https://www.otodom.pl/pl/oferta/2-pokojowe-mieszkanie-34m2-ogrodek-bezposrednio-ID4uhca', 'price': 469910, 'details': '2-pokojowe mieszkanie 34m2 + ogródek Bezpośrednio', 'location': 'ul. Chełmżyńska, Kawęczyn-Wygoda, Rembertów, Warszawa, mazowieckie'}, {'url': 'https://www.otodom.pl/pl/oferta/stylowe-3-pokojowe-las-chelmzynska-rembertow-ID4wBIk', 'price': 725000, 'details': 'Stylowe, 3-pokojowe, las, Chełmżyńska, Rembertów', 'location': 'ul. Chełmżyńska, Kawęczyn-Wygoda, Rembertów, Warszawa, mazowieckie'}, {'url': 'https://www.otodom.pl/pl/oferta/polaczenie-z-metrem-na-2025-rok-przy-lesie-ID4wrAO', 'price': 575628, 'details': 'Połączenie z Metrem na 2025 rok przy lesie', 'location': 'Kawęczyn-Wygoda, Rembertów, Warszawa, mazowieckie'}, {'url': 'https://www.otodom.pl/pl/oferta/polaczenie-z-metrem-na-2025-rok-przy-lesie-ID4wrAs', 'price': 410872, 'details': 'Połączenie z Metrem na 2025 rok', 'location': 'Kawęczyn-Wygoda, Rembertów, Warszawa, mazowieckie'}, {'url': 'https://www.otodom.pl/pl/oferta/polaczenie-z-metrem-na-2025-rokwidok-na-las-ID4wrAf', 'price': 475400, 'details': 'Połączenie z Metrem na 2025 rok***Widok na las', 'location': 'Kawęczyn-Wygoda, Rembertów, Warszawa, mazowieckie'}, {'url': 'https://www.otodom.pl/pl/oferta/nowe-2-pokoje-rembertow-ID4wpf9', 'price': 464810, 'details': 'Nowe 2 Pokoje Rembertów', 'location': 'ul. Chełmżyńska, Kawęczyn-Wygoda, Rembertów, Warszawa, mazowieckie'}, {'url': 'https://www.otodom.pl/pl/oferta/nowe-3-pokoje-na-rembertow-ID4wpf6', 'price': 625014, 'details': 'Nowe 3 Pokoje Na Rembertów', 'location': 'ul. Chełmżyńska, Kawęczyn-Wygoda, Rembertów, Warszawa, mazowieckie'}, {'url': 'https://www.otodom.pl/pl/oferta/kawalerka-na-rembertowie-ID4wp7e', 'price': 410872, 'details': 'Kawalerka Na Rembertowie', 'location': 'ul. Chełmżyńska, Kawęczyn-Wygoda, Rembertów, Warszawa, mazowieckie'}, {'url': 'https://www.otodom.pl/pl/oferta/piekna-kawalerka-na-osiedlu-kameralny-ID4wjvo', 'price': 499000, 'details': 'Piękna kawalerka na osiedlu Kameralny. 1 pokój, 29.1 m², 17 148 zł/m², 1 piętro.', 'location': 'Żerań, Białołęka, Warszawa, mazowieckie'}, {'url': 'https://www.otodom.pl/pl/oferta/kawalerka-miasto-moje-ID4wj7F', 'price': 435000, 'details': 'Kawalerka - Miasto Moje, 1 pokój, 26.23 m², 16 584 zł/m², 1 piętro.', 'location': 'ul. Marywilska, Żerań, Białołęka, Warszawa, mazowieckie'}, {'url': 'https://www.otodom.pl/pl/oferta/kawalerka-z-ogrodkiem-i-garazem-miasto-moje-ID4wenU', 'price': 499000, 'details': 'Kawalerka Z Ogródkiem I Garażem Miasto Moje, 1 pokój, 34.36 m², 14 523 zł/m², parter.', 'location': 'ul. Marywilska, Żerań, Białołęka, Warszawa, mazowieckie'}, {'url': 'https://www.otodom.pl/pl/oferta/funkcjonalna-kawalerka-na-ostatnim-pietrze-ID4wDdl', 'price': 459000, 'details': 'Funkcjonalna Kawalerka Na Ostatnim Piętrze, 1 pokój, 33 m², 13 909 zł/m², 4 piętro.', 'location': 'ul. Krzyżówki, Żerań, Białołęka, Warszawa, mazowieckie'}, {'url': 'https://www.otodom.pl/pl/oferta/kawalerka-miasto-moje-zeran-bezposrednio-ID4sef3', 'price': 450000, 'details': 'Kawalerka - Miasto moje, Żerań, Bezpośrednio, 1 pokój, 28.67 m², 15 696 zł/m², 1 piętro.', 'location': 'Żerań, Białołęka, Warszawa, mazowieckie'}, {'url': 'https://www.otodom.pl/pl/oferta/wyjatkowa-kawalerka-31-m2-wysoki-standard-ID4woiI', 'price': 599000, 'details': 'Wyjątkowa kawalerka 31 m2 - Wysoki standard, 1 pokój, 31 m², 19 323 zł/m², parter.', 'location': 'ul. Modlińska 56, Żerań, Białołęka, Warszawa, mazowieckie'}, {'url': 'https://www.otodom.pl/pl/oferta/wyremontowane-wyjatkowa-kawalerka-na-bialolece-ID4tpov', 'price': 495000, 'details': 'WYREMONTOWANE - Wyjątkowa kawalerka na Białołece, 1 pokój, 26.02 m², 19 024 zł/m², parter.', 'location': 'ul. Marywilska, Żerań, Białołęka, Warszawa, mazowieckie'}, {'url': 'https://www.otodom.pl/pl/oferta/kawalerka-umeblowane-piwnica-ID4wGDY', 'price': 457000, 'details': 'Kawalerka | Umeblowane | Piwnica, 1 pokój, 24.5 m², 18 653 zł/m², parter.', 'location': 'ul. św. Hieronima, Bródno, Targówek, Warszawa, mazowieckie'}, {'url': 'https://www.otodom.pl/pl/oferta/winnica-kawalerka-ID4wFUf', 'price': 387500, 'details': 'Winnica kawalerka, 1 pokój, 25 m², 15 500 zł/m², 2 piętro.', 'location': 'ul. Dionizosa 12, Białołęka Dworska, Białołęka, Warszawa, mazowieckie'}, {'url': 'https://www.otodom.pl/pl/oferta/do-wprowadzenia-metro-9-min-dostepne-od-teraz-ID4wDQl', 'price': 420000, 'details': 'Do wprowadzenia-Metro 9 min-dostępne od TeRaZ, 1 pokój, 28.5 m², 14 737 zł/m², 4 piętro.', 'location': 'ul. Toruńska, Bródno, Targówek, Warszawa, mazowieckie'}, {'url': 'https://www.otodom.pl/pl/oferta/sprzedam-kawalerke-w-uroczej-okolicy-ID4wegP', 'price': 600000, 'details': 'Sprzedam kawalerkę w uroczej okolicy, 1 pokój, 31.31 m², 19 163 zł/m², 1 piętro.', 'location': 'ul. Tarchomińska, Białołęka Dworska, Białołęka, Warszawa, mazowieckie'}, {'url': 'https://www.otodom.pl/pl/oferta/kawalerka-na-tarchominie-ID4wgrz', 'price': 455000, 'details': 'Kawalerka na Tarchominie, 1 pokój, 30.5 m², 14 918 zł/m², 3 piętro.', 'location': 'Białołęka Dworska, Białołęka, Warszawa, mazowieckie'}, {'url': 'https://www.otodom.pl/pl/oferta/cicha-kawalerka-35-m2-bezposrednio-bez-agencji-ID4tv3e', 'price': 490000, 'details': 'Cicha kawalerka 35 m2 - BEZPOŚREDNIO, BEZ AGENCJI', 'location': 'ul. Pasłęcka, Nowodwory, Białołęka, Warszawa, mazowieckie'}, {'url': 'https://www.otodom.pl/pl/oferta/kawalerka-miejsce-parkingowe-bialoleka-28m-ID4wyV1', 'price': 509000, 'details': 'Kawalerka+ miejsce parkingowe, Białołęka, 28m', 'location': 'Arcangela Corellego 15, Kobiałka, Białołęka, Warszawa, mazowieckie'}, {'url': 'https://www.otodom.pl/pl/oferta/sprzedam-kawalerke-w-spokojnej-lokalizacji-ID4utAk', 'price': 460000, 'details': 'Sprzedam kawalerkę w spokojnej lokalizacji', 'location': 'ul. Internetowa, Grodzisk, Białołęka, Warszawa, mazowieckie'}, {'url': 'https://www.otodom.pl/pl/oferta/umeblowana-kawalerka-z-ogrodkiem-nowy-budynek-ID4wiR4', 'price': 499000, 'details': 'Umeblowana kawalerka z ogródkiem!Nowy Budynek!', 'location': 'ul. Strumykowa, Nowodwory, Białołęka, Warszawa, mazowieckie'}, {'url': 'https://www.otodom.pl/pl/oferta/kawalerka-mozliwosc-przerobienia-na-dwa-pokoje-ID4wkyk', 'price': 475000, 'details': 'Kawalerka. Możliwość przerobienia na dwa pokoje', 'location': 'Tarchomin, Białołęka, Warszawa, mazowieckie'}, {'url': 'https://www.otodom.pl/pl/oferta/piekna-kawalerka-na-osiedlu-kameralny-ID4wjvo', 'price': 499000, 'details': 'Piękna kawalerka na osiedlu Kameralny.', 'location': 'Żerań, Białołęka, Warszawa, mazowieckie'}, {'url': 'https://www.otodom.pl/pl/oferta/kawalerka-bialoleka-tarchomin-atrakcyjna-cena-ID4wGr7', 'price': 483171, 'details': 'Kawalerka Białołęka Tarchomin Atrakcyjna Cena', 'location': 'ul. Pałuków, Tarchomin, Białołęka, Warszawa, mazowieckie'}, {'url': 'https://www.otodom.pl/pl/oferta/studio-z-mozliwoscia-2-pok-41-5m2-strumykowa-ID4qVA1', 'price': 614000, 'details': 'Studio (z możliwością 2-pok.), 41.5m2, Strumykowa', 'location': 'ul. Strumykowa 28, Nowodwory, Białołęka, Warszawa, mazowieckie'}, {'url': 'https://www.otodom.pl/pl/oferta/sprawdzkawalerka-m-postojowe-podziemne-ID4wGfn', 'price': 378000, 'details': '✅Sprawdź>>>kawalerka + m.postojowe podziemne', 'location': 'ul. Vincenza Belliniego, Kobiałka, Białołęka, Warszawa, mazowieckie'}, {'url': 'https://www.otodom.pl/pl/oferta/winnica-kawalerka-ID4wFUf', 'price': 387500, 'details': 'Winnica kawalerka', 'location': 'ul. Dionizosa 12, Białołęka Dworska, Białołęka, Warszawa, mazowieckie'}, {'url': 'https://www.otodom.pl/pl/oferta/sprzedam-kawalerke-w-uroczej-okolicy-ID4wegP', 'price': 600000, 'details': 'Sprzedam kawalerkę w uroczej okolicy', 'location': 'ul. Tarchomińska, Białołęka Dworska, Białołęka, Warszawa, mazowieckie'}, {'url': 'https://www.otodom.pl/pl/oferta/kawalerka-na-bialolece-do-metra-kondratowicza10min-ID4wzx5', 'price': 549000, 'details': 'Kawalerka na Białołęce do Metra Kondratowicza10min', 'location': 'ul. Skarbka z Gór, Grodzisk, Białołęka, Warszawa, mazowieckie'}, {'url': 'https://www.otodom.pl/pl/oferta/kawalerka-miasto-moje-ID4wj7F', 'price': 435000, 'details': 'Kawalerka - Miasto Moje,', 'location': 'ul. Marywilska, Żerań, Białołęka, Warszawa, mazowieckie'}, {'url': 'https://www.otodom.pl/pl/oferta/kawalerka-z-ogrodkiem-i-garazem-miasto-moje-ID4wenU', 'price': 499000, 'details': 'Kawalerka Z Ogródkiem I Garażem Miasto Moje', 'location': 'ul. Marywilska, Żerań, Białołęka, Warszawa, mazowieckie'}, {'url': 'https://www.otodom.pl/pl/oferta/przestronna-kawalerka-z-balkonem-do-wejscia-ID4wDNF', 'price': 460000, 'details': '⭐Przestronna kawalerka z balkonem | do wejścia ⭐', 'location': 'ul. Odkryta, Nowodwory, Białołęka, Warszawa, mazowieckie'}, {'url': 'https://www.otodom.pl/pl/oferta/funkcjonalna-kawalerka-na-ostatnim-pietrze-ID4wDdl', 'price': 459000, 'details': 'Funkcjonalna Kawalerka Na Ostatnim Piętrze.', 'location': 'ul. Krzyżówki, Żerań, Białołęka, Warszawa, mazowieckie'}, {'url': 'https://www.otodom.pl/pl/oferta/atrakcyjne-mieszkanie-z-odzielna-kuchnia-ID4wwd8', 'price': 480000, 'details': 'Atrakcyjne Mieszkanie Z Odzielną Kuchnią', 'location': 'ul. Pasłęcka, Nowodwory, Białołęka, Warszawa, mazowieckie'}, {'url': 'https://www.otodom.pl/pl/oferta/kawalerka-w-niskiej-zabudowie-ID4wu6p', 'price': 420000, 'details': 'Kawalerka w niskiej zabudowie', 'location': 'ul. Ostródzka, Brzeziny, Białołęka, Warszawa, mazowieckie'}, {'url': 'https://www.otodom.pl/pl/oferta/kawalerka-33m2-antalla-tarchomin-balkon-piwnica-ID4wtzP', 'price': 420000, 'details': 'Kawalerka ⭐ 33m2 Antalla Tarchomin⭐ Balkon Piwnica', 'location': 'ul. Józsefa Antalla, Tarchomin, Białołęka, Warszawa, mazowieckie'}, {'url': 'https://www.otodom.pl/pl/oferta/sprawdzpiekna-sloneczna-ustawna-kawalerka-ID4w0vT', 'price': 485000, 'details': '✅Sprawdź>>>Piękna, słoneczna, ustawna kawalerka✅', 'location': 'ul. Odkryta, Nowodwory, Białołęka, Warszawa, mazowieckie'}, {'url': 'https://www.otodom.pl/pl/oferta/wyjatkowa-kawalerka-31-m2-wysoki-standard-ID4woiI', 'price': 599000, 'details': 'Wyjątkowa kawalerka 31 m2 - Wysoki standard', 'location': 'ul. Modlińska 56, Żerań, Białołęka, Warszawa, mazowieckie'}, {'url': 'https://www.otodom.pl/pl/oferta/nowe-mieszkanie-po-remoncie-metro-brodno-ID4wnqU', 'price': 499000, 'details': 'Nowe Mieszkanie Po Remoncie. Metro Bródno', 'location': 'ul. Pawła Włodkowica, Brzeziny, Białołęka, Warszawa, mazowieckie'}, {'url': 'https://www.otodom.pl/pl/oferta/wyremontowane-wyjatkowa-kawalerka-na-bialolece-ID4tpov', 'price': 495000, 'details': 'WYREMONTOWANE - Wyjątkowa kawalerka na Białołece', 'location': 'ul. Marywilska, Żerań, Białołęka, Warszawa, mazowieckie'}, {'url': 'https://www.otodom.pl/pl/oferta/elegancka-nowoczesna-kawalerka-37-m2-ID4wjGX', 'price': 584900, 'details': 'Elegancka, nowoczesna kawalerka 37 m2,', 'location': 'ul. Strumykowa, Nowodwory, Białołęka, Warszawa, mazowieckie'}, {'url': 'https://www.otodom.pl/pl/oferta/kawalerka-z-duzym-tarasem-glebocka-ID4whI7', 'price': 690000, 'details': 'Kawalerka z dużym tarasem Głębocka', 'location': 'ul. Głębocka, Grodzisk, Białołęka, Warszawa, mazowieckie'}, {'url': 'https://www.otodom.pl/pl/oferta/komfortowy-2-pok-apartament-z-95-metrowym-tarasem-ID4wg9q', 'price': 690000, 'details': 'Komfortowy 2 pok. Apartament z 95 metrowym tarasem', 'location': 'ul. Głębocka, Grodzisk, Białołęka, Warszawa, mazowieckie'}, {'url': 'https://www.otodom.pl/pl/oferta/2-pokoje-kameralne-osiedle-cicha-okolica-ID4sXqy', 'price': 470000, 'details': '2 Pokoje | Kameralne Osiedle | Cicha Okolica', 'location': 'ul. Podłużna, Grodzisk, Białołęka, Warszawa, mazowieckie'}]}, 'status': 'completed', 'expiresAt': '2025-03-29T06:37:01.000Z'}\n",
            "  - Processing successful response dictionary...\n",
            "    - Found 72 listings in 'data.properties'.\n",
            "Tool 1: Extraction processing finished. Total potential listings gathered: 72\n",
            "Tool 1: Deduplicated listings count: 64\n",
            "Tool 2: Summarizing 64 extracted listings with Gemini...\n",
            "  - Preparing summary for 15 listings...\n",
            "Tool 2: Gemini summary generated successfully.\n",
            "Orchestrator: Request processed. Returning summary.\n"
          ]
        }
      ]
    }
  ]
}